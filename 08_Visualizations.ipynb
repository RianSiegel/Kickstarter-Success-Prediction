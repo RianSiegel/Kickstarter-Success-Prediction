{
 "cells": [
  {
   "cell_type": "code",
   "execution_count": null,
   "metadata": {},
   "outputs": [],
   "source": [
    "import pandas as pd\n",
    "import numpy as np\n",
    "import seaborn as sns\n",
    "import matplotlib.pyplot as plt\n",
    "import missingno as msno"
   ]
  },
  {
   "cell_type": "code",
   "execution_count": null,
   "metadata": {},
   "outputs": [],
   "source": [
    "df = pd.read_csv(\"data/binary_state_kickstarter_projects.csv\") \n",
    "df.head()"
   ]
  },
  {
   "cell_type": "code",
   "execution_count": null,
   "metadata": {},
   "outputs": [],
   "source": [
    "# function to set the plot style\n",
    "def set_plot_style():\n",
    "    # set background color of plot\n",
    "    plt.gca().set_facecolor('#002845')\n",
    "    plt.gcf().set_facecolor('#002845')\n",
    "    # set title and axis labels to white color\n",
    "    plt.title('Title', color='white')\n",
    "    plt.xlabel('X Label', color='white')\n",
    "    plt.ylabel('Y Label', color='white')\n",
    "    # set color of tick labels\n",
    "    plt.xticks(color='white')\n",
    "    plt.yticks(color='white')"
   ]
  },
  {
   "cell_type": "markdown",
   "metadata": {},
   "source": [
    "# Category"
   ]
  },
  {
   "cell_type": "code",
   "execution_count": null,
   "metadata": {},
   "outputs": [],
   "source": [
    "# group by 'category' and calculate mean of 'state'\n",
    "success_rate = df.groupby('category', sort=True)['state'].count().sort_values(ascending=False).reset_index()\n",
    "success_rate.columns = ['category', 'success_rate']\n",
    "\n",
    "# plot with Seaborn\n",
    "plt.figure(figsize=(10, 6))\n",
    "sns.barplot(y='category', x='success_rate', data=success_rate)\n",
    "plt.title('Count per Category')\n",
    "plt.ylabel('Count')\n",
    "plt.xlabel('Category')\n",
    "plt.show()"
   ]
  },
  {
   "cell_type": "code",
   "execution_count": null,
   "metadata": {},
   "outputs": [],
   "source": [
    "# group by 'category' and calculate mean of 'state'\n",
    "success_rate = df.groupby('category')['state'].mean().sort_values(ascending=False).reset_index()\n",
    "success_rate.columns = ['category', 'success_rate']\n",
    "\n",
    "# plot with Seaborn\n",
    "plt.figure(figsize=(10, 6))\n",
    "sns.barplot(y='category', x='success_rate', data=success_rate)\n",
    "plt.title('Avg. Success Rate per Category')\n",
    "plt.ylabel('Avg. Success Rate')\n",
    "plt.xlabel('Category')\n",
    "plt.show()"
   ]
  },
  {
   "cell_type": "code",
   "execution_count": null,
   "metadata": {},
   "outputs": [],
   "source": [
    "# group by 'category' and calculate mean of 'state'\n",
    "success_rate = df.groupby('category')['goal'].median().sort_values(ascending=False).reset_index()\n",
    "success_rate.columns = ['category', 'success_rate']\n",
    "\n",
    "# plot with Seaborn\n",
    "plt.figure(figsize=(10, 6))\n",
    "sns.barplot(y='category', x='success_rate', data=success_rate)\n",
    "plt.title('Median Goal per Category')\n",
    "plt.ylabel('Median Goal')\n",
    "plt.xlabel('Category')\n",
    "plt.show()"
   ]
  },
  {
   "cell_type": "code",
   "execution_count": null,
   "metadata": {},
   "outputs": [],
   "source": [
    "# group by 'category' and calculate mean of 'state'\n",
    "success_rate = df.groupby('category')['pledged'].median().sort_values(ascending=False).reset_index()\n",
    "success_rate.columns = ['category', 'success_rate']\n",
    "\n",
    "# plot with Seaborn\n",
    "plt.figure(figsize=(10, 6))\n",
    "sns.barplot(y='category', x='success_rate', data=success_rate)\n",
    "plt.title('Median Pledged per Category')\n",
    "plt.ylabel('Median Pledged')\n",
    "plt.xlabel('Category')\n",
    "plt.show()"
   ]
  },
  {
   "cell_type": "markdown",
   "metadata": {},
   "source": [
    "# Country"
   ]
  },
  {
   "cell_type": "code",
   "execution_count": null,
   "metadata": {},
   "outputs": [],
   "source": [
    "# group by 'country' and calculate mean of 'state'\n",
    "success_rate = df.groupby('country')['state'].mean().sort_values(ascending=False).reset_index()\n",
    "success_rate.columns = ['country', 'success_rate']\n",
    "\n",
    "# plot with Seaborn\n",
    "plt.figure(figsize=(10, 6))\n",
    "sns.barplot(y='country', x='success_rate', data=success_rate)\n",
    "plt.title('Avg. Success Rate per Country')\n",
    "plt.ylabel('Avg. Success Rate')\n",
    "plt.xlabel('Country')\n",
    "plt.show()"
   ]
  },
  {
   "cell_type": "code",
   "execution_count": null,
   "metadata": {},
   "outputs": [],
   "source": [
    "# group by 'country' and calculate mean of 'state'\n",
    "success_rate = df.groupby('country')['goal'].median().sort_values(ascending=False).reset_index()\n",
    "success_rate.columns = ['country', 'success_rate']\n",
    "\n",
    "# plot with Seaborn\n",
    "plt.figure(figsize=(10, 6))\n",
    "sns.barplot(y='country', x='success_rate', data=success_rate)\n",
    "plt.title('Median Goal per Country')\n",
    "plt.ylabel('Median Goal')\n",
    "plt.xlabel('Country')\n",
    "plt.show()"
   ]
  },
  {
   "cell_type": "code",
   "execution_count": null,
   "metadata": {},
   "outputs": [],
   "source": [
    "# group by 'country' and calculate mean of 'state'\n",
    "success_rate = df.groupby('country')['pledged'].median().sort_values(ascending=False).reset_index()\n",
    "success_rate.columns = ['country', 'success_rate']\n",
    "\n",
    "# plot with Seaborn\n",
    "plt.figure(figsize=(10, 6))\n",
    "sns.barplot(y='country', x='success_rate', data=success_rate)\n",
    "plt.title('Median Pledged per Country')\n",
    "plt.ylabel('Median Pledged')\n",
    "plt.xlabel('Country')\n",
    "plt.show()"
   ]
  }
 ],
 "metadata": {
  "kernelspec": {
   "display_name": "Python 3 (ipykernel)",
   "language": "python",
   "name": "python3"
  },
  "language_info": {
   "codemirror_mode": {
    "name": "ipython",
    "version": 3
   },
   "file_extension": ".py",
   "mimetype": "text/x-python",
   "name": "python",
   "nbconvert_exporter": "python",
   "pygments_lexer": "ipython3",
   "version": "3.9.12"
  }
 },
 "nbformat": 4,
 "nbformat_minor": 2
}
