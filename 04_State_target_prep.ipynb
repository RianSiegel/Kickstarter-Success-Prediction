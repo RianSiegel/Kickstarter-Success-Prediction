{
 "cells": [
  {
   "cell_type": "code",
   "execution_count": null,
   "metadata": {},
   "outputs": [],
   "source": [
    "import pandas as pd\n",
    "import numpy as np"
   ]
  },
  {
   "cell_type": "code",
   "execution_count": null,
   "metadata": {},
   "outputs": [],
   "source": [
    "df = pd.read_csv('data/kickstarter_projects.csv')\n",
    "\n",
    "# convert column names to lowercase\n",
    "df.columns = df.columns.str.lower()\n",
    "\n",
    "# drop not needed variables 'id', 'name'\n",
    "df = df.drop(columns=['id', 'name'])\n",
    "\n",
    "# drop state Live because state is not finally determined and thus not usuable for predictions \n",
    "df = df.drop(df[df.state == 'Live'].index)\n",
    "\n",
    "# clean entries\n",
    "df = df.drop(df[df.goal == 0].index)\n",
    "\n",
    "# convert 'launched' and 'deadline' columns to datetime\n",
    "df['launched'] = pd.to_datetime(df['launched'])\n",
    "df['deadline'] = pd.to_datetime(df['deadline'])\n",
    "\n",
    "# calculate the duration in days\n",
    "df['duration'] = (df['deadline'] - df['launched']).dt.days\n",
    "\n",
    "# create a new column 'launch_month' with the month extracted from the 'launched' column\n",
    "df['launch_month'] = df['launched'].dt.month\n",
    "\n",
    "# convert state to binary to use it as target variable \n",
    "cleanup_nums = {\"state\":{\"Failed\": 0, \"Canceled\": 0, \"Suspended\" :0, \"Successful\" : 1}}\n",
    "df[\"org_state\"] = df[\"state\"]\n",
    "df.replace(cleanup_nums, inplace=True)\n",
    "df.head()"
   ]
  },
  {
   "cell_type": "code",
   "execution_count": null,
   "metadata": {},
   "outputs": [],
   "source": [
    "df.info()"
   ]
  },
  {
   "cell_type": "code",
   "execution_count": null,
   "metadata": {},
   "outputs": [],
   "source": [
    "from sklearn.preprocessing import OrdinalEncoder\n",
    "\n",
    "# initialise encoder\n",
    "ord_make = OrdinalEncoder()\n",
    "\n",
    "# encode categorical variables\n",
    "df['country_encoded'] = ord_make.fit_transform(df[['country']]).astype('int')\n",
    "df['category_encoded'] = ord_make.fit_transform(df[['category']]).astype('int')\n",
    "df['subcategory_encoded'] = ord_make.fit_transform(df[['subcategory']]).astype('int')\n",
    "df.info()"
   ]
  },
  {
   "cell_type": "code",
   "execution_count": null,
   "metadata": {},
   "outputs": [],
   "source": [
    "# add log columns\n",
    "df['goal_log'] = np.log1p(df['goal'])\n",
    "df['pledged_log'] = np.log1p(df['pledged'])"
   ]
  },
  {
   "cell_type": "code",
   "execution_count": null,
   "metadata": {},
   "outputs": [],
   "source": [
    "# save new dataset\n",
    "df.to_csv('data/binary_state_kickstarter_projects.csv', index=False)"
   ]
  }
 ],
 "metadata": {
  "kernelspec": {
   "display_name": "Python 3 (ipykernel)",
   "language": "python",
   "name": "python3"
  },
  "language_info": {
   "codemirror_mode": {
    "name": "ipython",
    "version": 3
   },
   "file_extension": ".py",
   "mimetype": "text/x-python",
   "name": "python",
   "nbconvert_exporter": "python",
   "pygments_lexer": "ipython3",
   "version": "3.9.12"
  }
 },
 "nbformat": 4,
 "nbformat_minor": 2
}
