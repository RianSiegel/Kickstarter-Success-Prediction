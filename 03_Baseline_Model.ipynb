{
 "cells": [
  {
   "cell_type": "code",
   "execution_count": null,
   "id": "1896dede-6931-4e86-b426-270b74e1e945",
   "metadata": {
    "tags": []
   },
   "outputs": [],
   "source": [
    "import pandas as pd\n",
    "from sklearn.model_selection import train_test_split\n",
    "from sklearn.preprocessing import StandardScaler\n",
    "from sklearn.linear_model import LinearRegression\n",
    "from sklearn.metrics import mean_squared_error\n",
    "from sklearn.metrics import r2_score\n",
    "from sklearn.preprocessing import LabelEncoder\n",
    "\n",
    "import numpy as np\n",
    "import matplotlib.pyplot as plt\n",
    "import seaborn as sns"
   ]
  },
  {
   "cell_type": "code",
   "execution_count": null,
   "id": "d29d038d-e949-488a-b9a4-0fdeab1a94f3",
   "metadata": {
    "tags": []
   },
   "outputs": [],
   "source": [
    "df = pd.read_csv('data/kickstarter_projects.csv')\n",
    "df.head()"
   ]
  },
  {
   "cell_type": "code",
   "execution_count": null,
   "id": "a96064d2-1e33-4f9d-b17d-aca29425a0bc",
   "metadata": {
    "tags": []
   },
   "outputs": [],
   "source": [
    "# convert columns to lowercase\n",
    "df.columns = df.columns.str.lower()\n",
    "\n",
    "# drop 'ID' and 'Name' columns\n",
    "df = df.drop(columns=['id', 'name'])\n",
    "df.columns"
   ]
  },
  {
   "cell_type": "code",
   "execution_count": null,
   "id": "fc2274ee-3e89-4910-b462-4f70a3e57cdd",
   "metadata": {},
   "outputs": [],
   "source": [
    "# print correlation of variables\n",
    "#df[['category', 'subcategory', 'country', 'goal']].corr()"
   ]
  },
  {
   "cell_type": "code",
   "execution_count": null,
   "id": "e9a17365-d464-44ab-ab22-b252b42d832e",
   "metadata": {
    "tags": []
   },
   "outputs": [],
   "source": [
    "df.describe()"
   ]
  },
  {
   "cell_type": "code",
   "execution_count": null,
   "id": "39b60e99-110b-4264-98af-fdb992b972ba",
   "metadata": {
    "tags": []
   },
   "outputs": [],
   "source": [
    "# define feature and target variable\n",
    "X = df[['goal']]\n",
    "y = df['pledged']\n",
    "\n",
    "X.shape"
   ]
  },
  {
   "cell_type": "code",
   "execution_count": null,
   "id": "6076792a-e833-463e-9efc-d4d2329d3e05",
   "metadata": {
    "tags": []
   },
   "outputs": [],
   "source": [
    "# fit linear regression model\n",
    "lin_reg = LinearRegression()\n",
    "lin_reg.fit(X, y)\n",
    "\n",
    "# calculate r-squared \n",
    "y_hat = lin_reg.predict(X)\n",
    "print(\"R-squared:\", r2_score(y, y_hat))"
   ]
  },
  {
   "cell_type": "code",
   "execution_count": null,
   "id": "549b0c5a-72e1-409f-8b27-e9c17b924e74",
   "metadata": {
    "tags": []
   },
   "outputs": [],
   "source": [
    "# plot data with regression line\n",
    "plt.scatter(X, y)\n",
    "plt.plot(X, y_hat, '-', color='orange', linewidth=2)\n",
    "plt.ylabel('pledged')\n",
    "plt.xlabel('goal')"
   ]
  },
  {
   "cell_type": "code",
   "execution_count": null,
   "id": "f039d4f4-8e1c-483d-b636-bf90d171b2f6",
   "metadata": {},
   "outputs": [],
   "source": [
    "# define features and target variable\n",
    "X = df[['goal']]\n",
    "y = df['pledged']\n",
    "\n",
    "# apply logarithmic transformation to 'goal' and 'pledged' columns\n",
    "X['goal'] = np.log1p(X['goal'])  # log1p is used to handle zero values\n",
    "y = np.log1p(y)\n",
    "\n",
    "# split data into training and testing sets\n",
    "X_train, X_test, y_train, y_test = train_test_split(X, y, test_size=0.2, random_state=42)\n",
    "\n",
    "# scale features\n",
    "scaler = StandardScaler()\n",
    "X_train_scaled = scaler.fit_transform(X_train)\n",
    "X_test_scaled = scaler.transform(X_test)\n",
    "\n",
    "# train linear regression model\n",
    "model = LinearRegression()\n",
    "model.fit(X_train_scaled, y_train)"
   ]
  },
  {
   "cell_type": "code",
   "execution_count": null,
   "id": "d5f398d7-0736-4362-a3cc-f3d4ac66cb68",
   "metadata": {},
   "outputs": [],
   "source": [
    "# examine distributions after log transformation\n",
    "for col in ['goal']:\n",
    "    sns.histplot(X[col], kde=True)\n",
    "    plt.title(f'Log Transformed Distribution of {col}')\n",
    "    plt.show()\n",
    "    \n",
    "sns.histplot(y, kde=True)\n",
    "plt.title('Log Transformed Distribution of Pledged')\n",
    "plt.show()"
   ]
  },
  {
   "cell_type": "code",
   "execution_count": null,
   "id": "f2703fd8-1b55-407a-a56a-f1c2511c621c",
   "metadata": {},
   "outputs": [],
   "source": [
    "# make predictions\n",
    "y_pred = model.predict(X_test_scaled)\n",
    "\n",
    "# evaluate model\n",
    "mse = mean_squared_error(y_test, y_pred)\n",
    "print(f'Mean Squared Error: {mse}')\n",
    "\n",
    "# inverse transform predictions to original scale\n",
    "y_pred_original_scale = np.expm1(y_pred)  # inverse of log1p is expm1\n",
    "y_test_original_scale = np.expm1(y_test)\n",
    "\n",
    "# evaluating the model with original target values\n",
    "mse_original_scale = mean_squared_error(y_test_original_scale, y_pred_original_scale)\n",
    "print(f'Mean Squared Error (Original Scale): {mse_original_scale}')"
   ]
  }
 ],
 "metadata": {
  "kernelspec": {
   "display_name": "Python 3 (ipykernel)",
   "language": "python",
   "name": "python3"
  },
  "language_info": {
   "codemirror_mode": {
    "name": "ipython",
    "version": 3
   },
   "file_extension": ".py",
   "mimetype": "text/x-python",
   "name": "python",
   "nbconvert_exporter": "python",
   "pygments_lexer": "ipython3",
   "version": "3.9.12"
  }
 },
 "nbformat": 4,
 "nbformat_minor": 5
}
