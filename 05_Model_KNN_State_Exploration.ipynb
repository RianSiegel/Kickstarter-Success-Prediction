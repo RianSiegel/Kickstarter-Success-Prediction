{
 "cells": [
  {
   "cell_type": "code",
   "execution_count": null,
   "metadata": {},
   "outputs": [],
   "source": [
    "import numpy as np\n",
    "import pandas as pd\n",
    "import matplotlib.pyplot as plt\n",
    "import seaborn as sns\n",
    "\n",
    "from sklearn.metrics import confusion_matrix, accuracy_score, recall_score\n",
    "from sklearn.neighbors import KNeighborsClassifier\n",
    "from sklearn.model_selection import train_test_split"
   ]
  },
  {
   "cell_type": "code",
   "execution_count": null,
   "metadata": {},
   "outputs": [],
   "source": [
    "df = pd.read_csv(\"data/binary_state_kickstarter_projects.csv\")\n",
    "df.head()"
   ]
  },
  {
   "cell_type": "code",
   "execution_count": null,
   "metadata": {},
   "outputs": [],
   "source": [
    "# correlation heatmap \n",
    "correlations = df.corr(numeric_only=True)\n",
    "mask = np.triu(correlations)\n",
    "sns.heatmap(correlations , vmax=1, vmin=-1, annot=True, mask=mask, cmap=\"YlGnBu\");"
   ]
  },
  {
   "cell_type": "code",
   "execution_count": null,
   "metadata": {},
   "outputs": [],
   "source": [
    "# defining target and other variables\n",
    "X = df[['duration']]\n",
    "y = df['state']\n",
    "\n",
    "# split data into train and test set\n",
    "X_train, X_test, y_train, y_test = train_test_split(X, y, random_state=1)\n",
    "\n",
    "# train model\n",
    "knn = KNeighborsClassifier()\n",
    "knn.fit(X_train, y_train)\n",
    "\n",
    "# predict on test set\n",
    "y_pred = knn.predict(X_test)\n",
    "\n",
    "# print accuracy score \n",
    "print(\"Accuracy:\", accuracy_score(y_test, y_pred).round(2))\n",
    "print(\"Recall:\", recall_score(y_test, y_pred, average='weighted').round(2))\n",
    "print(\"-----\"*10)\n",
    "\n",
    "# print confusion matrix\n",
    "sns.heatmap(confusion_matrix(y_test, y_pred), annot=True, cmap='YlGn');"
   ]
  },
  {
   "cell_type": "markdown",
   "metadata": {},
   "source": [
    "## Using Categorical Variables Country and Category"
   ]
  },
  {
   "cell_type": "code",
   "execution_count": null,
   "metadata": {},
   "outputs": [],
   "source": [
    "# defining target and other variables\n",
    "X = df[['country_encoded','category_encoded']]\n",
    "y = df['state']\n",
    "\n",
    "# split data into train and test set\n",
    "X_train, X_test, y_train, y_test = train_test_split(X, y, random_state=1)\n",
    "\n",
    "# train model\n",
    "knn = KNeighborsClassifier()\n",
    "knn.fit(X_train, y_train)\n",
    "\n",
    "# predict on test set\n",
    "y_pred = knn.predict(X_test)\n",
    "\n",
    "# print accuracy score \n",
    "print(\"Accuracy:\", accuracy_score(y_test, y_pred).round(2))\n",
    "print(\"Recall:\", recall_score(y_test, y_pred, average='weighted').round(2))\n",
    "print(\"-----\"*10)\n",
    "\n",
    "# print confusion matrix\n",
    "sns.heatmap(confusion_matrix(y_test, y_pred), annot=True, cmap='YlGn');"
   ]
  },
  {
   "cell_type": "markdown",
   "metadata": {},
   "source": [
    "## Using Continuous Variable Goal"
   ]
  },
  {
   "cell_type": "code",
   "execution_count": null,
   "metadata": {},
   "outputs": [],
   "source": [
    "# defining target and other variables\n",
    "X = df[['goal']]\n",
    "y = df['state']\n",
    "\n",
    "# split data into train and test set\n",
    "X_train, X_test, y_train, y_test = train_test_split(X, y, random_state=1)\n",
    "\n",
    "# train model\n",
    "knn = KNeighborsClassifier()\n",
    "knn.fit(X_train, y_train)\n",
    "\n",
    "# predict on test set\n",
    "y_pred = knn.predict(X_test)\n",
    "\n",
    "# print accuracy score \n",
    "print(\"Accuracy:\", accuracy_score(y_test, y_pred).round(2))\n",
    "print(\"Recall:\", recall_score(y_test, y_pred, average='weighted').round(2))\n",
    "print(\"-----\"*10)\n",
    "\n",
    "# print confusion matrix\n",
    "sns.heatmap(confusion_matrix(y_test, y_pred), annot=True, cmap='YlGn');"
   ]
  },
  {
   "cell_type": "markdown",
   "metadata": {},
   "source": [
    "## Mixing it together"
   ]
  },
  {
   "cell_type": "code",
   "execution_count": null,
   "metadata": {},
   "outputs": [],
   "source": [
    "# defining target and other variables\n",
    "X = df[['goal','country_encoded','duration','category_encoded']]\n",
    "y = df['state']\n",
    "\n",
    "# split data into train and test set\n",
    "X_train, X_test, y_train, y_test = train_test_split(X, y, random_state=1)\n",
    "\n",
    "# train model\n",
    "knn = KNeighborsClassifier()\n",
    "knn.fit(X_train, y_train)\n",
    "\n",
    "# predict on test set\n",
    "y_pred = knn.predict(X_test)\n",
    "s\n",
    "# print accuracy score \n",
    "print(\"Accuracy:\", accuracy_score(y_test, y_pred).round(2))\n",
    "print(\"Recall:\", recall_score(y_test, y_pred, average='weighted').round(2))\n",
    "print(\"-----\"*10)\n",
    "\n",
    "# print confusion matrix\n",
    "sns.heatmap(confusion_matrix(y_test, y_pred), annot=True, cmap='YlGn');"
   ]
  }
 ],
 "metadata": {
  "kernelspec": {
   "display_name": "Python 3 (ipykernel)",
   "language": "python",
   "name": "python3"
  },
  "language_info": {
   "codemirror_mode": {
    "name": "ipython",
    "version": 3
   },
   "file_extension": ".py",
   "mimetype": "text/x-python",
   "name": "python",
   "nbconvert_exporter": "python",
   "pygments_lexer": "ipython3",
   "version": "3.9.12"
  }
 },
 "nbformat": 4,
 "nbformat_minor": 2
}
