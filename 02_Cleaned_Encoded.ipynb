{
 "cells": [
  {
   "cell_type": "code",
   "execution_count": null,
   "id": "85bf68d6-e2a9-4ad6-949d-61f4d70a37a6",
   "metadata": {
    "tags": []
   },
   "outputs": [],
   "source": [
    "import pandas as pd"
   ]
  },
  {
   "cell_type": "code",
   "execution_count": null,
   "id": "5fde58c9",
   "metadata": {},
   "outputs": [],
   "source": [
    "df = pd.read_csv('data/kickstarter_projects.csv')\n",
    "\n",
    "# convert column names to lowercase\n",
    "df.columns = df.columns.str.lower()\n",
    "\n",
    "# drop variables 'id', 'name', and rows where 'state' is 'suspended' or 'goal' is 0\n",
    "dropped_df = df.drop(columns=['id', 'name'])\n",
    "dropped_df = dropped_df.drop(df[df.state == 'Live'].index)\n",
    "dropped_df = dropped_df.drop(df[df.state == 'Suspended'].index)\n",
    "dropped_df = dropped_df.drop(df[df.goal == 0].index)\n",
    "\n",
    "# replace 'Canceled' with 'Failed'\n",
    "dropped_df.state.replace({'Canceled': 'Failed'}, inplace = True)\n",
    "\n",
    "# convert 'launched' and 'deadline' columns to datetime\n",
    "dropped_df['launched'] = pd.to_datetime(dropped_df['launched'])\n",
    "dropped_df['deadline'] = pd.to_datetime(dropped_df['deadline'])\n",
    "\n",
    "# calculate duration in days\n",
    "dropped_df['duration'] = (dropped_df['deadline'] - dropped_df['launched']).dt.days\n",
    "\n",
    "# create new column 'launch_month' with month extracted from 'launched' column\n",
    "dropped_df['launch_month'] = dropped_df['launched'].dt.month\n",
    "\n",
    "df = dropped_df\n",
    "\n",
    "df.head()"
   ]
  },
  {
   "cell_type": "code",
   "execution_count": null,
   "id": "f297033a-5f94-4b78-a0fd-6a1e26a4cf93",
   "metadata": {
    "tags": []
   },
   "outputs": [],
   "source": [
    "df.state.value_counts()"
   ]
  },
  {
   "cell_type": "code",
   "execution_count": null,
   "id": "5d30d462-8efd-4c7d-972c-fd550c65411b",
   "metadata": {
    "tags": []
   },
   "outputs": [],
   "source": [
    "from sklearn.preprocessing import LabelEncoder\n",
    "\n",
    "# label encoding\n",
    "columns_to_encode = df[['category', 'subcategory', 'country']]\n",
    "\n",
    "# initialize LabelEncoder\n",
    "label_encoder = LabelEncoder()\n",
    "\n",
    "# apply LabelEncoder to each categorical column\n",
    "for col in columns_to_encode:\n",
    "    df[col + '_encoded'] = label_encoder.fit_transform(df[col])\n",
    "\n",
    "# create df to store unique original values and their corresponding encoded values for each column\n",
    "encoded_values_dfs = {}\n",
    "\n",
    "# iterate through columns to be encoded\n",
    "for col in columns_to_encode:\n",
    "    # get unique values of original column and their corresponding encoded values\n",
    "    unique_original_values = df[col].unique()\n",
    "    encoded_values = label_encoder.fit_transform(unique_original_values)\n",
    "    # create df with original and encoded values\n",
    "    encoded_values_df = pd.DataFrame({\n",
    "        f'{col}_Original': unique_original_values,\n",
    "        f'{col}_Encoded': encoded_values\n",
    "    })\n",
    "    # sort df by encoded values (for 'Category' column)\n",
    "    if col == 'Category':\n",
    "        encoded_values_df = encoded_values_df.sort_values(by=f'{col}_Encoded', ascending=True)\n",
    "    # store df in the dictionary\n",
    "    encoded_values_dfs[col] = encoded_values_df\n",
    "# display dfs\n",
    "for col, encoded_values_df in encoded_values_dfs.items():\n",
    "    print(f'\\n{col}:\\n')\n",
    "    print(encoded_values_df)"
   ]
  },
  {
   "cell_type": "code",
   "execution_count": null,
   "id": "7264cf93",
   "metadata": {},
   "outputs": [],
   "source": [
    "encoded_values_dfs"
   ]
  },
  {
   "cell_type": "code",
   "execution_count": null,
   "id": "6a91bd29-d029-4771-8330-bf153f498924",
   "metadata": {
    "tags": []
   },
   "outputs": [],
   "source": [
    "df.head()"
   ]
  },
  {
   "cell_type": "code",
   "execution_count": null,
   "id": "3aebd422-eef4-40ea-85cf-0c7d1a9a8815",
   "metadata": {
    "tags": []
   },
   "outputs": [],
   "source": [
    "# save new dataset\n",
    "df.to_csv('data/cleaned_encoded_kickstarter_projects.csv', index=False)"
   ]
  }
 ],
 "metadata": {
  "kernelspec": {
   "display_name": "Python 3 (ipykernel)",
   "language": "python",
   "name": "python3"
  },
  "language_info": {
   "codemirror_mode": {
    "name": "ipython",
    "version": 3
   },
   "file_extension": ".py",
   "mimetype": "text/x-python",
   "name": "python",
   "nbconvert_exporter": "python",
   "pygments_lexer": "ipython3",
   "version": "3.9.12"
  }
 },
 "nbformat": 4,
 "nbformat_minor": 5
}
