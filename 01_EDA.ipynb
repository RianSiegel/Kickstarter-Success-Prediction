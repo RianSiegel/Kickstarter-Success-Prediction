{
 "cells": [
  {
   "cell_type": "markdown",
   "metadata": {},
   "source": [
    "# EDA of the Kickstarter Dataset\n",
    "\n",
    "from https://www.kaggle.com/datasets/ulrikthygepedersen/kickstarter-projects/data"
   ]
  },
  {
   "cell_type": "code",
   "execution_count": null,
   "metadata": {
    "tags": []
   },
   "outputs": [],
   "source": [
    "import pandas as pd\n",
    "import numpy as np\n",
    "import seaborn as sns\n",
    "import matplotlib.pyplot as plt"
   ]
  },
  {
   "cell_type": "code",
   "execution_count": null,
   "metadata": {},
   "outputs": [],
   "source": [
    "df = pd.read_csv(\"data/kickstarter_projects.csv\")\n",
    "df.head()"
   ]
  },
  {
   "cell_type": "code",
   "execution_count": null,
   "metadata": {
    "tags": []
   },
   "outputs": [],
   "source": [
    "df.columns"
   ]
  },
  {
   "cell_type": "code",
   "execution_count": null,
   "metadata": {},
   "outputs": [],
   "source": [
    "df.info()"
   ]
  },
  {
   "cell_type": "code",
   "execution_count": null,
   "metadata": {},
   "outputs": [],
   "source": [
    "df.describe().round(0)"
   ]
  },
  {
   "cell_type": "code",
   "execution_count": null,
   "metadata": {},
   "outputs": [],
   "source": [
    "# check for missing values\n",
    "df.isna().sum()"
   ]
  },
  {
   "cell_type": "code",
   "execution_count": null,
   "metadata": {},
   "outputs": [],
   "source": [
    "# check for duplicates\n",
    "df.duplicated().value_counts()"
   ]
  },
  {
   "cell_type": "code",
   "execution_count": null,
   "metadata": {},
   "outputs": [],
   "source": [
    "ax = sns.histplot(df, y='Category');"
   ]
  },
  {
   "cell_type": "code",
   "execution_count": null,
   "metadata": {},
   "outputs": [],
   "source": [
    "ax = sns.histplot(df, y='Country');"
   ]
  },
  {
   "cell_type": "code",
   "execution_count": null,
   "metadata": {},
   "outputs": [],
   "source": [
    "# closer look on country due to imbalance in dataset and potential implications on model\n",
    "country_stats_pledged = df.groupby('Country').agg(count=('Pledged','size'), mean=('Pledged','mean'), median=('Pledged','median'), max=('Pledged','max'))\n",
    "country_stats_pledged.astype('int').sort_values(by='count', ascending=False)"
   ]
  },
  {
   "cell_type": "code",
   "execution_count": null,
   "metadata": {},
   "outputs": [],
   "source": [
    "fig = plt.figure(figsize=(16, 8))\n",
    "sns.histplot(df, y='State');"
   ]
  },
  {
   "cell_type": "code",
   "execution_count": null,
   "metadata": {},
   "outputs": [],
   "source": [
    "# scatterplot with log-scaled x-axis and y-axis\n",
    "fig = plt.figure(figsize=(10, 10))\n",
    "sns.scatterplot(x=\"Pledged\", y=\"Goal\", data=df, hue='State')\n",
    "plt.xscale('log')\n",
    "plt.yscale('log')\n",
    "plt.show()"
   ]
  },
  {
   "cell_type": "code",
   "execution_count": null,
   "metadata": {},
   "outputs": [],
   "source": [
    "# check for summary statistics\n",
    "fig = plt.figure(figsize=(18, 8))\n",
    "sns.boxplot(data=df, y='Pledged', x='Category');\n",
    "plt.yscale('log')\n",
    "plt.show()"
   ]
  },
  {
   "cell_type": "code",
   "execution_count": null,
   "metadata": {},
   "outputs": [],
   "source": [
    "df.groupby('State')['Goal'].describe().style.format(\"{:.0f}\")"
   ]
  },
  {
   "cell_type": "code",
   "execution_count": null,
   "metadata": {},
   "outputs": [],
   "source": [
    "df.groupby('Category')['Pledged'].describe().style.format(\"{:.0f}\")"
   ]
  },
  {
   "cell_type": "code",
   "execution_count": null,
   "metadata": {},
   "outputs": [],
   "source": [
    "mean_goal = df.groupby(['Category', 'State'])['Goal'].mean().reset_index()\n",
    "\n",
    "# create pivot table to prepare data for plotting\n",
    "pivot_table = mean_goal.pivot(index='Category', columns='State', values='Goal')\n",
    "\n",
    "# plot stacked bar chart\n",
    "ax = pivot_table.plot(kind='bar', stacked=True, figsize=(10, 6))\n",
    "\n",
    "# set x-axis label\n",
    "ax.set_xlabel('Category')\n",
    "\n",
    "# set y-axis label\n",
    "ax.set_ylabel('Mean time in days')\n",
    "\n",
    "# set chart title\n",
    "ax.set_title('Staked Barchart for States vs Category')\n",
    "\n",
    "plt.show()"
   ]
  },
  {
   "cell_type": "code",
   "execution_count": null,
   "metadata": {},
   "outputs": [],
   "source": [
    "avg_goal_by_category = df.groupby('Category')['Goal'].mean().reset_index()\n",
    "fig = plt.figure(figsize=(18, 8))\n",
    "\n",
    "# bar plot with Seaborn\n",
    "sns.barplot(x='Category', y='Goal', data=avg_goal_by_category)\n",
    "\n",
    "plt.title('Average Goal by Category')\n",
    "plt.xlabel('Category')\n",
    "plt.ylabel('Average Goal')\n",
    "\n",
    "plt.show()"
   ]
  },
  {
   "cell_type": "code",
   "execution_count": null,
   "metadata": {},
   "outputs": [],
   "source": [
    "avg_pledged_by_category = df.groupby('Category')['Pledged'].mean().reset_index()\n",
    "fig = plt.figure(figsize=(18, 8))\n",
    "\n",
    "# bar plot with Seaborn\n",
    "sns.barplot(x='Category', y='Pledged', data=avg_pledged_by_category)\n",
    "\n",
    "plt.title('Average Pledged by Category')\n",
    "plt.xlabel('Category')\n",
    "plt.ylabel('Average Pledged')\n",
    "\n",
    "plt.show()"
   ]
  },
  {
   "cell_type": "code",
   "execution_count": null,
   "metadata": {},
   "outputs": [],
   "source": [
    "avg_backers_by_category = df.groupby('Category')['Backers'].mean().reset_index()\n",
    "fig = plt.figure(figsize=(18, 8))\n",
    "\n",
    "# bar plot with Seaborn\n",
    "sns.barplot(x='Category', y='Backers', data=avg_backers_by_category)\n",
    "\n",
    "plt.title('Average Backers by Category')\n",
    "plt.xlabel('Category')\n",
    "plt.ylabel('Average Backers')\n",
    "\n",
    "plt.show()"
   ]
  }
 ],
 "metadata": {
  "kernelspec": {
   "display_name": "Python 3 (ipykernel)",
   "language": "python",
   "name": "python3"
  },
  "language_info": {
   "codemirror_mode": {
    "name": "ipython",
    "version": 3
   },
   "file_extension": ".py",
   "mimetype": "text/x-python",
   "name": "python",
   "nbconvert_exporter": "python",
   "pygments_lexer": "ipython3",
   "version": "3.9.12"
  }
 },
 "nbformat": 4,
 "nbformat_minor": 4
}
